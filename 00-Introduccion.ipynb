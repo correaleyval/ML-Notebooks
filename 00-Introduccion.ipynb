{
 "cells": [
  {
   "cell_type": "markdown",
   "metadata": {},
   "source": [
    "### Qué es \"Machine Learning\""
   ]
  },
  {
   "cell_type": "markdown",
   "metadata": {},
   "source": [
    "No existe una definición bien aceptada sobre lo que es y lo que no es <b>Machine Learning</b> (Aprendizaje Automático). Pero vamos a ver un par de ejemplos de como algunos científicos han intentado definirlo.\n",
    "\n",
    "* <b>Arthur Samuel (1959)</b>: <b>Machine Learning</b>, campo de estudio que le da a las computadoras la habilidad de aprender algo sobre lo que no han sido explícitamente programadas.\n",
    "\n",
    "Esta es una definición un tanto informal, y algo más antigua. Aquí está una definición un poco más reciente de Tom Mitchell.\n",
    "\n",
    "* <b>Tom Mitchell (1998)</b>: Un pronlema de <b>machine learning</b> bien planteado es definido de la siguiente forma. Un programa se dice que aprende de la experiencia $E$, con respecto a una tarea $T$, y una medida de rendimiento $P$. Si la realización de $T$, medida por $P$, mejora a medida que aumenta $E$.\n",
    "\n",
    "O sea, plantea que el programa mejora su capacidad de realizar una tarea determinada, y que esta capacidad de realizar la tarea puede ser medidad, mientras más veces repite esta tarea obteniendo experiencia durante el proceso.\n",
    "\n",
    "Si tomamos por ejemplo un programa capaz de jugar a las damas. La experiencia $E$, será la experiencia de tener el programa jugando decenas de miles de partidas reiteradas contra el mismo. La tarea $T$, será la tarea de jugar varias partidas. Y la medida de rendimiento $P$, será la probabilidad de que gane una partida de damas contra un nuevo oponente.\n",
    "\n",
    "Pongamos como ejemplo que tu cliente de correo electrónico analiza que correos has marcado como spam o no. A medida que marcas algunos correos como spam, tu cliente de correo aprende mejor como filtrar el spam en el correo. Entonces tenemos como $T$: Clasificar los correos como spam o no. Como $E$ observar que marques o no un correo como spam, y como $P$ el número o procentaje de correos clasificados correctamente como (spam / o no spam)."
   ]
  },
  {
   "cell_type": "markdown",
   "metadata": {},
   "source": [
    "#### Algoritmos de Machine Learning\n",
    "\n",
    "Existen diferentes tipos de algoritmos de machine learning. Los dos tipos principales son los que llamamos de <b>aprendizaje supervisado</b> y de <b>aprendizaje no supervisado</b>\n",
    "\n",
    "- Aprendizaje supervisado\n",
    "- Aprendizaje no supervisado\n",
    "- Aprendizaje reforzado\n",
    "- Sistemas de recomendación\n",
    "\n",
    "Tocaremos más a fondo sobre que trata cada tipo de algoritmo. Pero podemos adelantar que en el aprendizaje supervisado, la idea es que vamos a enseñar al equipo o programa cómo hacer algo, mientras que en el aprendizaje no supervisado vamos a perimitirle aprender por si mismo."
   ]
  }
 ],
 "metadata": {
  "kernelspec": {
   "display_name": "Python 3",
   "language": "python",
   "name": "python3"
  },
  "language_info": {
   "codemirror_mode": {
    "name": "ipython",
    "version": 3
   },
   "file_extension": ".py",
   "mimetype": "text/x-python",
   "name": "python",
   "nbconvert_exporter": "python",
   "pygments_lexer": "ipython3",
   "version": "3.7.1"
  }
 },
 "nbformat": 4,
 "nbformat_minor": 4
}
