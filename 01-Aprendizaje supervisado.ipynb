{
 "cells": [
  {
   "cell_type": "markdown",
   "metadata": {},
   "source": [
    "### Aprendizaje Supervisado\n",
    "\n",
    "Más adelante definiremos de manera formal qué es el aprendizaje supervisado, comencemos ahora con un ejemplo:\n",
    "Supongamos que quieres predecir precios de casas, y tenemos el siguiente conjunto de datos."
   ]
  },
  {
   "cell_type": "code",
   "execution_count": 1,
   "metadata": {},
   "outputs": [],
   "source": [
    "from pylab import *"
   ]
  },
  {
   "cell_type": "code",
   "execution_count": 2,
   "metadata": {},
   "outputs": [],
   "source": [
    "# Tamaño de las casas en pies cuadrados\n",
    "SIZE = array([533, 540, 800, 990, 1250, 1460, 1600, 1700, 1850, 1990, 2250])\n",
    "\n",
    "# Precio de las casas en miles ($)\n",
    "PRICE = array([100, 150, 210, 230, 296, 275, 310, 298, 330, 320, 310])"
   ]
  },
  {
   "cell_type": "code",
   "execution_count": 3,
   "metadata": {},
   "outputs": [
    {
     "name": "stdout",
     "output_type": "stream",
     "text": [
      "(11,)\n"
     ]
    }
   ],
   "source": [
    "print(SIZE.shape)"
   ]
  },
  {
   "cell_type": "code",
   "execution_count": 4,
   "metadata": {},
   "outputs": [
    {
     "name": "stdout",
     "output_type": "stream",
     "text": [
      "(11,)\n"
     ]
    }
   ],
   "source": [
    "print(PRICE.shape)"
   ]
  },
  {
   "cell_type": "code",
   "execution_count": 5,
   "metadata": {},
   "outputs": [
    {
     "data": {
      "image/png": "[encoded data removed]",
      "text/plain": [
       "<Figure size 432x288 with 1 Axes>"
      ]
     },
     "metadata": {
      "needs_background": "light"
     },
     "output_type": "display_data"
    }
   ],
   "source": [
    "scatter(SIZE, PRICE, marker=\"x\", c=\"brown\")\n",
    "show()"
   ]
  },
  {
   "cell_type": "markdown",
   "metadata": {},
   "source": [
    "Tenemos en el eje horizontal, el tamaño de distintas casas en pies cuadrados, y en el eje vertical su respectivo precio en miles. Entonces con estos datos digamos que tienes una casa de 750 pies cuadrados y quieres saber cuánto dinero se puede pedir por ella. Entonces, ¿cómo puede ayudarte un algoritmo de aprendizaje? Algo que prodría hacer el algoritmo de aprendizaje es trazar una línea recta a través de los datos, y en base a la ecuación de dicha recta podemos predecir el precio de la casa.\n",
    "\n",
    "Pero tal vez este no es el único algoritmo de aprendizaje que puedes utilizar. Puede haber uno mejor. Por ejemplo, en lugar de trazar una línea recta en los datos, podríamos decidir que es mejor insertar una función que describa mejor la relación entre el tamaño y el precio de la casa. Pudiera ser una función cuadrática o un polinomio de segundo grado.\n",
    "\n",
    "Este es un ejemplo de algoritmo de aprendizaje supervisado. Y el término aprendizaje supervisado se refiere al hecho de que le dimos al algoritmo un conjunto de datos donde se daban las \"respuestas correctas\". Es decir, le dimos un conjunto de datos de casas en los que para cada ejemplo del conjunto de datos, se dijo cuál era el precio correcto, el precio real de esa casa y la tarea del algoritmo solo fué generar más \"respuestas correctas\", como para predecir el precio de tu casa.\n",
    "\n",
    "Para definir un poco más la terminología, esto también se denomina un problema de regresión y con esto nos referimos a que queremos predecir un resultado de valor continuo. Es decir, el precio."
   ]
  },
  {
   "cell_type": "markdown",
   "metadata": {},
   "source": [
    "Ahora pasemos a otro ejemplo de aprendizaje supervisado. Digamos que quieres revisar expedientes médicos y tratar de predecir cáncer de mama como maligno o benigno."
   ]
  },
  {
   "cell_type": "code",
   "execution_count": 6,
   "metadata": {},
   "outputs": [],
   "source": [
    "tumor = array([0, 0, 0, 1, 0, 1, 0, 1 ,1 , 1])"
   ]
  },
  {
   "cell_type": "code",
   "execution_count": 7,
   "metadata": {},
   "outputs": [
    {
     "data": {
      "image/png": "[encoded data removed]",
      "text/plain": [
       "<Figure size 432x288 with 1 Axes>"
      ]
     },
     "metadata": {
      "needs_background": "light"
     },
     "output_type": "display_data"
    }
   ],
   "source": [
    "scatter(range(10, tumor.shape[0]+10), tumor, marker=\"x\")\n",
    "show()"
   ]
  },
  {
   "cell_type": "markdown",
   "metadata": {},
   "source": [
    "Supongamos que nuestro conjunto de datos se ve de la manera anterior, donde en el eje horizontal tenemos el tamaño del tumor y esta marcando $0$ si es benigno y $1$ si es maligno. Así que en este ejemplo tenemos cinco tumores benignos que se muestran abajo y cinco tumores malignos que se muestran con un valor del eje vertical de $1$. La pregunta para un algoritmo de machine learning sería: ¿puedes calcular cuál es la probabilidad, de que un tumor sea maligno vs benigno? Este es un ejemplo de un problema de clasificación, el término clasificación se refiere al hecho de que intentamos predecir un resultado de valor discreto: cero o uno, maligno o benigno. Un problema de clasificación va más allá de tan solo dos posibles casos, para este ejemplo pudieramos encontrarnos con la situación de que existan varios tipos de cáncer, entonces tal vez tendríamos $0$ para benigno y de $1 - n$ para todos los posibles tipos de cáncer que se estén analizando."
   ]
  },
  {
   "cell_type": "markdown",
   "metadata": {},
   "source": [
    "En otros problemas de aprendizaje en muchas ocasiones tenemos más de una característica, más de un atributo. Por ejemplo digamos que en lugar de solo saber el tamaño del tumor, también conocemos la edad del paciente y el tamaño del tumor. En ese caso tal vez tu conjunto de datos se verá así"
   ]
  },
  {
   "cell_type": "code",
   "execution_count": 8,
   "metadata": {},
   "outputs": [
    {
     "name": "stdout",
     "output_type": "stream",
     "text": [
      "[40 34 27 28 24 28 35 30 35 38 24 50 45  7 36 34 29 27 26 39 26 24 34 36] (24,)\n"
     ]
    }
   ],
   "source": [
    "edad = array(10 * np.random.randn(24), dtype='int') + 30\n",
    "\n",
    "print(edad, edad.shape)"
   ]
  },
  {
   "cell_type": "code",
   "execution_count": 9,
   "metadata": {},
   "outputs": [
    {
     "data": {
      "image/png": "[encoded data removed]",
      "text/plain": [
       "<Figure size 432x288 with 1 Axes>"
      ]
     },
     "metadata": {
      "needs_background": "light"
     },
     "output_type": "display_data"
    }
   ],
   "source": [
    "scatter(range(1, 7), edad[:6], marker='o', c=\"blue\")\n",
    "scatter(6, edad[7], marker='x', c=\"brown\")\n",
    "scatter(range(7, 13), edad[6:12], c=\"blue\")\n",
    "\n",
    "scatter(range(13, 19), edad[12:18], marker='x', c=\"brown\")\n",
    "scatter(18, edad[14], marker='o', c=\"blue\")\n",
    "scatter(range(19, 24), edad[18:23], marker='x', c=\"brown\")\n",
    "show()"
   ]
  },
  {
   "cell_type": "markdown",
   "metadata": {},
   "source": [
    "Con un conjunto de datos como este, lo que puede hacer el algoritmo de aprendizaje es trazar la línea recta en los datos para tratar de separar los tumores malignos de los benignos.\n",
    "\n",
    "Con algoritmos más avanzados de machine learning podemos tratar con problemas que tienen una infinita cantidad de características."
   ]
  }
 ],
 "metadata": {
  "kernelspec": {
   "display_name": "Python 3",
   "language": "python",
   "name": "python3"
  },
  "language_info": {
   "codemirror_mode": {
    "name": "ipython",
    "version": 3
   },
   "file_extension": ".py",
   "mimetype": "text/x-python",
   "name": "python",
   "nbconvert_exporter": "python",
   "pygments_lexer": "ipython3",
   "version": "3.8.3"
  }
 },
 "nbformat": 4,
 "nbformat_minor": 4
}
