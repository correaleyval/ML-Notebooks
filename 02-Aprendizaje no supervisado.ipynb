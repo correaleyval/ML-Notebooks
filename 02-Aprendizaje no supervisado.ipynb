{
 "cells": [
  {
   "cell_type": "markdown",
   "metadata": {},
   "source": [
    "### Aprendizaje no supervisado\n",
    "\n",
    "Recordemos que en el aprendizaje supervisado, le pasamos explícitamente las respuestas correctas al algoritmo. En el aprendizaje no supervisado solamente tenemos el conjunto de datos. Lo que hacemos es pasarle al algoritmo el conjunto de datos y la pregunta sería: Puedes encontrar alguna estructura en los datos? Un ejemplo serían los algoritmos de agrupamiento o segmentació, que son capaces de detectar similitudes y diferencias en el conjunto de datos y agruparlos de acuerdo a estos."
   ]
  }
 ],
 "metadata": {
  "kernelspec": {
   "display_name": "Python 3",
   "language": "python",
   "name": "python3"
  },
  "language_info": {
   "codemirror_mode": {
    "name": "ipython",
    "version": 3
   },
   "file_extension": ".py",
   "mimetype": "text/x-python",
   "name": "python",
   "nbconvert_exporter": "python",
   "pygments_lexer": "ipython3",
   "version": "3.7.2"
  }
 },
 "nbformat": 4,
 "nbformat_minor": 4
}
