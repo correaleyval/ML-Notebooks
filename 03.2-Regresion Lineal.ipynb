{
 "cells": [
  {
   "cell_type": "markdown",
   "metadata": {},
   "source": [
    "### Regresión lineal\n",
    "---\n",
    "\n",
    "#### Resumen:\n",
    "\n",
    "##### Hipótesis:\n",
    "### $$ h_\\theta(x) = \\theta_0 + \\theta_1x $$\n",
    "\n",
    "##### Parámetros:\n",
    "### $$\\theta_0, \\theta_1$$\n",
    "\n",
    "##### Función de costo:\n",
    "### $$J(\\theta_0,\\theta_1) = {1\\over2m} \\sum_{i=1}^{n} (h_\\theta(x_i)-y_i)^2$$\n",
    "\n",
    "##### Objetivo:\n",
    "### $${min\\over{\\theta_0 \\theta_1}} J(\\theta_0,\\theta_1)$$"
   ]
  }
 ],
 "metadata": {
  "kernelspec": {
   "display_name": "Python 3",
   "language": "python",
   "name": "python3"
  },
  "language_info": {
   "name": ""
  }
 },
 "nbformat": 4,
 "nbformat_minor": 4
}
